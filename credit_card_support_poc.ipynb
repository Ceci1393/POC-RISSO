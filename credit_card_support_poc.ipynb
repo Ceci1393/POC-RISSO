{
 "cells": [
  {
   "cell_type": "code",
   "execution_count": 2,
   "metadata": {},
   "outputs": [],
   "source": [
    "import os\n",
    "import openai\n",
    "import pandas as pd\n",
    "\n",
    "# Configurá tu API Key de OpenAI desde variables de entorno (seguridad)\n",
    "openai.api_key = os.getenv('OPENAI_API_KEY')"
   ]
  },
  {
   "cell_type": "code",
   "execution_count": 3,
   "metadata": {},
   "outputs": [],
   "source": [
    "# Función actualizada para la nueva versión de OpenAI\n",
    "def generar_respuesta(pregunta):\n",
    "    try:\n",
    "        respuesta = openai.ChatCompletion.create(\n",
    "            model=\"gpt-3.5-turbo\",\n",
    "            messages=[\n",
    "                {\"role\": \"system\", \"content\": \"Sos un asistente útil para responder preguntas sobre tarjetas de crédito.\"},\n",
    "                {\"role\": \"user\", \"content\": pregunta}\n",
    "            ],\n",
    "            max_tokens=150  # Aumentamos el límite de tokens para respuestas más completas\n",
    "        )\n",
    "        return respuesta['choices'][0]['message']['content'].strip()\n",
    "    except Exception as e:\n",
    "        print(f\"Error al generar respuesta para: {pregunta} - {str(e)}\")\n",
    "        return f\"Error al generar respuesta: {str(e)}\"\n",
    "\n"
   ]
  },
  {
   "cell_type": "code",
   "execution_count": 4,
   "metadata": {},
   "outputs": [],
   "source": [
    "# Preguntas frecuentes\n",
    "faqs = [\n",
    "    \"¿Cómo solicito una tarjeta de crédito?\",\n",
    "    \"¿Qué hago si pierdo mi tarjeta?\",\n",
    "    \"¿Cómo aumento el límite de mi tarjeta?\",\n",
    "    \"¿Cómo consulto el saldo de mi tarjeta?\",\n",
    "    \"¿Qué hago si detecto un cargo no reconocido?\",\n",
    "    \"¿Cómo pago mi tarjeta de crédito?\",\n",
    "    \"¿Cómo bloqueo temporalmente mi tarjeta?\"\n",
    "]\n",
    "\n",
    "# Crear DataFrame\n",
    "df_faqs = pd.DataFrame(faqs, columns=['Pregunta'])"
   ]
  },
  {
   "cell_type": "code",
   "execution_count": 5,
   "metadata": {},
   "outputs": [],
   "source": [
    "# Generar respuestas usando la API actualizada\n",
    "df_faqs['Respuesta'] = df_faqs['Pregunta'].apply(generar_respuesta)\n",
    "\n"
   ]
  },
  {
   "cell_type": "code",
   "execution_count": 6,
   "metadata": {},
   "outputs": [
    {
     "name": "stdout",
     "output_type": "stream",
     "text": [
      "                                       Pregunta  \\\n",
      "0        ¿Cómo solicito una tarjeta de crédito?   \n",
      "1               ¿Qué hago si pierdo mi tarjeta?   \n",
      "2        ¿Cómo aumento el límite de mi tarjeta?   \n",
      "3        ¿Cómo consulto el saldo de mi tarjeta?   \n",
      "4  ¿Qué hago si detecto un cargo no reconocido?   \n",
      "5             ¿Cómo pago mi tarjeta de crédito?   \n",
      "6       ¿Cómo bloqueo temporalmente mi tarjeta?   \n",
      "\n",
      "                                           Respuesta  \n",
      "0  Para solicitar una tarjeta de crédito, sigue e...  \n",
      "1  Si pierdes tu tarjeta de crédito, es important...  \n",
      "2  Puedes aumentar el límite de tu tarjeta de cré...  \n",
      "3  Puedes consultar el saldo de tu tarjeta de cré...  \n",
      "4  Si detectas un cargo no reconocido en tu tarje...  \n",
      "5  Puedes pagar tu tarjeta de crédito de diferent...  \n",
      "6  Para bloquear temporalmente tu tarjeta de créd...  \n",
      "Respuestas generadas y archivo CSV guardado correctamente\n"
     ]
    }
   ],
   "source": [
    "# Mostrar resultados\n",
    "print(df_faqs)\n",
    "\n",
    "# Guardar en CSV\n",
    "df_faqs.to_csv('respuestas_atencion_cliente.csv', index=False)\n",
    "print(\"Respuestas generadas y archivo CSV guardado correctamente\")\n",
    "\n",
    "\n"
   ]
  },
  {
   "cell_type": "code",
   "execution_count": null,
   "metadata": {},
   "outputs": [],
   "source": [
    "from IPython.display import display, Image\n",
    "display(Image(r\"C:\\Users\\criss\\OneDrive\\Desktop\\POCRISSO\\CHAT1IA.jpg\"))\n",
    "\n"
   ]
  },
  {
   "cell_type": "markdown",
   "metadata": {},
   "source": [
    "## Prompt utilizado para la generación de la imagen:\"A futuristic AI chatbot assisting a customer with credit card inquiries, glowing holographic interface, sleek UI, digital banking theme, cyberpunk style\"\n",
    "## Herramienta utilizada:\n",
    "Esta imagen fue generada con [NightCafe](https://creator.nightcafe.studio/)."
   ]
  }
 ],
 "metadata": {
  "kernelspec": {
   "display_name": "Python 3 (ipykernel)",
   "language": "python",
   "name": "python3"
  },
  "language_info": {
   "codemirror_mode": {
    "name": "ipython",
    "version": 3
   },
   "file_extension": ".py",
   "mimetype": "text/x-python",
   "name": "python",
   "nbconvert_exporter": "python",
   "pygments_lexer": "ipython3",
   "version": "3.11.11"
  }
 },
 "nbformat": 4,
 "nbformat_minor": 4
}
